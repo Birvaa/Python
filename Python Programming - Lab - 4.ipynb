{
 "cells": [
  {
   "cell_type": "markdown",
   "metadata": {},
   "source": [
    "\n",
    "<a href='https://www.darshan.ac.in/'> <img src='https://www.darshan.ac.in/Content/media/DU_Logo.svg' width=\"250\" height=\"300\"/></a>\n",
    "<pre>\n",
    "<center><b><h1>Python Programming - 2301CS404</b></center>\n",
    "<center><b><h1>Lab - 4</b></center>    \n",
    "<pre>"
   ]
  },
  {
   "cell_type": "markdown",
   "metadata": {},
   "source": [
    "# String"
   ]
  },
  {
   "cell_type": "markdown",
   "metadata": {},
   "source": [
    "### 01) WAP to check whether the given string is palindrome or not."
   ]
  },
  {
   "cell_type": "code",
   "execution_count": 2,
   "metadata": {},
   "outputs": [
    {
     "name": "stdout",
     "output_type": "stream",
     "text": [
      "Enter string:BirvaavriB\n",
      "Palindrom\n"
     ]
    }
   ],
   "source": [
    "str = input(\"Enter string:\")\n",
    "rev = str[::-1]\n",
    "if(str==rev):\n",
    "    print(\"Palindrom\")\n",
    "else:\n",
    "    print(\"not\")\n"
   ]
  },
  {
   "cell_type": "markdown",
   "metadata": {},
   "source": [
    "### 02) WAP to reverse the words in the given string."
   ]
  },
  {
   "cell_type": "code",
   "execution_count": 8,
   "metadata": {},
   "outputs": [
    {
     "name": "stdout",
     "output_type": "stream",
     "text": [
      "Enter string:Birva vaghasiya\n"
     ]
    },
    {
     "data": {
      "text/plain": [
       "'vaghasiya Birva'"
      ]
     },
     "execution_count": 8,
     "metadata": {},
     "output_type": "execute_result"
    }
   ],
   "source": [
    "str = input(\"Enter string:\")\n",
    "list = str.split(\" \")\n",
    "list.reverse()\n",
    "list\n",
    "s = ' '.join(list)\n",
    "s"
   ]
  },
  {
   "cell_type": "markdown",
   "metadata": {},
   "source": [
    "### 03) WAP to remove ith character from given string."
   ]
  },
  {
   "cell_type": "code",
   "execution_count": 12,
   "metadata": {},
   "outputs": [
    {
     "name": "stdout",
     "output_type": "stream",
     "text": [
      "Enter string:Birva\n",
      "Enter index to remove:2\n"
     ]
    },
    {
     "data": {
      "text/plain": [
       "'Biva'"
      ]
     },
     "execution_count": 12,
     "metadata": {},
     "output_type": "execute_result"
    }
   ],
   "source": [
    "str = input(\"Enter string:\")\n",
    "i = int(input(\"Enter index to remove:\"))\n",
    "ans = str[:i]+str[i+1:len(str)]\n",
    "ans"
   ]
  },
  {
   "cell_type": "markdown",
   "metadata": {},
   "source": [
    "### 04) WAP to find length of string without using len function."
   ]
  },
  {
   "cell_type": "code",
   "execution_count": 13,
   "metadata": {},
   "outputs": [
    {
     "name": "stdout",
     "output_type": "stream",
     "text": [
      "Enter string:Birva\n",
      "Length is 5\n"
     ]
    }
   ],
   "source": [
    "str = input(\"Enter string:\")\n",
    "count = 0\n",
    "for i in str:\n",
    "    count+=1\n",
    "    \n",
    "print(\"Length is\",count)"
   ]
  },
  {
   "cell_type": "markdown",
   "metadata": {},
   "source": [
    "### 05) WAP to print even length word in string."
   ]
  },
  {
   "cell_type": "code",
   "execution_count": 18,
   "metadata": {},
   "outputs": [
    {
     "name": "stdout",
     "output_type": "stream",
     "text": [
      "Enter string:this is a string\n"
     ]
    },
    {
     "data": {
      "text/plain": [
       "'this is string '"
      ]
     },
     "execution_count": 18,
     "metadata": {},
     "output_type": "execute_result"
    }
   ],
   "source": [
    "str = input(\"Enter string:\")\n",
    "str2 = str+\" \"\n",
    "a=''\n",
    "ans=''\n",
    "count=0\n",
    "for i in str2:\n",
    "    if i == \" \":\n",
    "        if(count % 2 == 0):\n",
    "            ans+=a+' '\n",
    "        a=''    \n",
    "        count=0\n",
    "    else:\n",
    "        a+=i\n",
    "        count+=1\n",
    "ans"
   ]
  },
  {
   "cell_type": "markdown",
   "metadata": {},
   "source": [
    "### 06) WAP to count numbers of vowels in given string."
   ]
  },
  {
   "cell_type": "code",
   "execution_count": 22,
   "metadata": {},
   "outputs": [
    {
     "name": "stdout",
     "output_type": "stream",
     "text": [
      "Enter string:Birva\n"
     ]
    },
    {
     "data": {
      "text/plain": [
       "2"
      ]
     },
     "execution_count": 22,
     "metadata": {},
     "output_type": "execute_result"
    }
   ],
   "source": [
    "str = input(\"Enter string:\")\n",
    "count=0\n",
    "vowel = 'aeiouAEIOU'\n",
    "for i in str:\n",
    "    if vowel.find(i)>=0:\n",
    "        count+=1\n",
    "count"
   ]
  },
  {
   "cell_type": "markdown",
   "metadata": {},
   "source": [
    "### 07) WAP to capitalize the first and last character of each word in a string."
   ]
  },
  {
   "cell_type": "code",
   "execution_count": 26,
   "metadata": {},
   "outputs": [
    {
     "name": "stdout",
     "output_type": "stream",
     "text": [
      "Enter String:birva vaghasiya\n"
     ]
    },
    {
     "data": {
      "text/plain": [
       "'BirvA VaghasiyA '"
      ]
     },
     "execution_count": 26,
     "metadata": {},
     "output_type": "execute_result"
    }
   ],
   "source": [
    "str = input(\"Enter String:\")\n",
    "list = str.split(\" \")\n",
    "ans=''\n",
    "for i in list:\n",
    "    i=i.title()\n",
    "    j=len(i)\n",
    "    word=i[:j-1]+i[j-1].upper();\n",
    "    ans += word+\" \"\n",
    "ans"
   ]
  },
  {
   "cell_type": "markdown",
   "metadata": {},
   "source": [
    "### 08) WAP to convert given array to string."
   ]
  },
  {
   "cell_type": "code",
   "execution_count": 27,
   "metadata": {},
   "outputs": [
    {
     "data": {
      "text/plain": [
       "'i am birva'"
      ]
     },
     "execution_count": 27,
     "metadata": {},
     "output_type": "execute_result"
    }
   ],
   "source": [
    "l1 = ['i','am','birva']\n",
    "str = ' '.join(l1)\n",
    "str\n"
   ]
  },
  {
   "cell_type": "markdown",
   "metadata": {},
   "source": [
    "### 09) Check if the password and confirm password is same or not. \n",
    "### In case of only case's mistake, show the error message."
   ]
  },
  {
   "cell_type": "code",
   "execution_count": 28,
   "metadata": {},
   "outputs": [
    {
     "name": "stdout",
     "output_type": "stream",
     "text": [
      "enter password:Birva\n",
      "Enter confirm passwordbirva\n",
      "There is a case mistake\n"
     ]
    }
   ],
   "source": [
    "p1 = input(\"enter password:\")\n",
    "p2 = input(\"Enter confirm password\")\n",
    "if p1 == p2:\n",
    "    print(\"Password changed\")\n",
    "else:\n",
    "    if p1.upper()==p2.upper():\n",
    "        print(\"There is a case mistake\")\n",
    "    else:\n",
    "        print(\"Password don't match\")\n",
    "    "
   ]
  },
  {
   "cell_type": "markdown",
   "metadata": {},
   "source": [
    "### 10) : Display credit card number. \n",
    "### card no. : 1234 5678 9012 3456\n",
    "### display as  : **** **** **** 3456"
   ]
  },
  {
   "cell_type": "code",
   "execution_count": 32,
   "metadata": {},
   "outputs": [
    {
     "name": "stdout",
     "output_type": "stream",
     "text": [
      "Enter card number1234567812345678\n",
      "************5678\n"
     ]
    }
   ],
   "source": [
    "s=input(\"Enter card number\")\n",
    "for i in range(0,12):\n",
    "    s = s.replace(s[i],'*',1)\n",
    "print(s)\n",
    "    "
   ]
  },
  {
   "cell_type": "markdown",
   "metadata": {},
   "source": [
    "### 11) : Checking if the two strings are Anagram or not.\n",
    "### s1 = decimal and s2 = medical are Anagram"
   ]
  },
  {
   "cell_type": "code",
   "execution_count": 38,
   "metadata": {},
   "outputs": [
    {
     "name": "stdout",
     "output_type": "stream",
     "text": [
      "Enter String:birva\n",
      "Enter String:Biirva\n",
      "not ANAGRAM\n"
     ]
    }
   ],
   "source": [
    "str1 = input(\"Enter String:\")\n",
    "str2 = input(\"Enter String:\")\n",
    "res1 = ''.join(sorted(str1))\n",
    "res2 = ''.join(sorted(str2))\n",
    "if(res1 == res2):\n",
    "    print(\"ANAGRAM\")\n",
    "else:\n",
    "    print(\"not ANAGRAM\")"
   ]
  },
  {
   "cell_type": "markdown",
   "metadata": {},
   "source": [
    "### 12) : Rearrange the given string. First lowercase then uppercase alphabets.\n",
    "### input : EHlsarwiwhtwMV\n",
    "### output : lsarwiwhtwEHMV"
   ]
  },
  {
   "cell_type": "code",
   "execution_count": 40,
   "metadata": {},
   "outputs": [
    {
     "name": "stdout",
     "output_type": "stream",
     "text": [
      "Enter String:EHlsarwiwhtwMV\n"
     ]
    },
    {
     "data": {
      "text/plain": [
       "'lsarwiwhtwEHMV'"
      ]
     },
     "execution_count": 40,
     "metadata": {},
     "output_type": "execute_result"
    }
   ],
   "source": [
    "str1 = input(\"Enter String:\")\n",
    "l=''\n",
    "u=''\n",
    "for i in str1:\n",
    "    if(i.islower()):\n",
    "        l+=i\n",
    "    else:\n",
    "        u+=i\n",
    "ans=l+u\n",
    "ans"
   ]
  },
  {
   "cell_type": "code",
   "execution_count": null,
   "metadata": {},
   "outputs": [],
   "source": []
  }
 ],
 "metadata": {
  "kernelspec": {
   "display_name": "Python 3 (ipykernel)",
   "language": "python",
   "name": "python3"
  },
  "language_info": {
   "codemirror_mode": {
    "name": "ipython",
    "version": 3
   },
   "file_extension": ".py",
   "mimetype": "text/x-python",
   "name": "python",
   "nbconvert_exporter": "python",
   "pygments_lexer": "ipython3",
   "version": "3.10.9"
  },
  "vscode": {
   "interpreter": {
    "hash": "31f2aee4e71d21fbe5cf8b01ff0e069b9275f58929596ceb00d14d90e3e16cd6"
   }
  }
 },
 "nbformat": 4,
 "nbformat_minor": 4
}
