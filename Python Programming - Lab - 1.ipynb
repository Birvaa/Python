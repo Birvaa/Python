{
 "cells": [
  {
   "cell_type": "markdown",
   "metadata": {},
   "source": [
    "<a href='https://www.darshan.ac.in/'> <img src='https://www.darshan.ac.in/Content/media/DU_Logo.svg' width=\"250\" height=\"10\"/></a>\n",
    "<pre>\n",
    "<center><b><h1>Python Programming - 2301CS404</b></center>\n",
    "<center><b><h1>Lab - 1</b></center>    \n",
    "<pre>"
   ]
  },
  {
   "cell_type": "markdown",
   "metadata": {},
   "source": [
    "### 01) WAP to print “Hello World”"
   ]
  },
  {
   "cell_type": "code",
   "execution_count": 1,
   "metadata": {},
   "outputs": [
    {
     "name": "stdout",
     "output_type": "stream",
     "text": [
      "Hello World\n"
     ]
    }
   ],
   "source": [
    "print(\"Hello World\")"
   ]
  },
  {
   "cell_type": "markdown",
   "metadata": {},
   "source": [
    "### 02) WAP to print addition of two numbers with and without using input()."
   ]
  },
  {
   "cell_type": "code",
   "execution_count": 5,
   "metadata": {},
   "outputs": [
    {
     "name": "stdout",
     "output_type": "stream",
     "text": [
      "2 + 3 = 5\n",
      "Enter any number: 5\n",
      "Enter any number: 3\n",
      "5+3=8\n"
     ]
    }
   ],
   "source": [
    "a=2\n",
    "b=3\n",
    "print(a,\"+\",b,\"=\",(a+b))\n",
    "c=int(input(\"Enter any number: \"))\n",
    "d=int(input(\"Enter any number: \"))\n",
    "print(f\"{c}+{d}={(c+d)}\")"
   ]
  },
  {
   "cell_type": "markdown",
   "metadata": {},
   "source": [
    "### 03) WAP to check the type of the variable."
   ]
  },
  {
   "cell_type": "code",
   "execution_count": 11,
   "metadata": {},
   "outputs": [
    {
     "name": "stdout",
     "output_type": "stream",
     "text": [
      "Enter any variable: 5\n",
      "<class 'float'>\n",
      "Enter any variable: 6\n",
      "<class 'int'>\n",
      "Enter any variable: 12\n",
      "<class 'str'>\n",
      "Enter any variable: \n",
      "<class 'str'>\n"
     ]
    }
   ],
   "source": [
    "var1=float(input(\"Enter any variable: \"))\n",
    "print(type(var))\n",
    "var2=int(input(\"Enter any variable: \"))\n",
    "print(type(var))\n",
    "var3=input(\"Enter any variable: \")\n",
    "print(type(var))\n",
    "var4=input(\"Enter any variable: \")\n",
    "print(type(var))"
   ]
  },
  {
   "cell_type": "markdown",
   "metadata": {},
   "source": [
    "### 04) WAP to calculate simple interest."
   ]
  },
  {
   "cell_type": "code",
   "execution_count": 12,
   "metadata": {},
   "outputs": [
    {
     "name": "stdout",
     "output_type": "stream",
     "text": [
      "Enter principal amount: 100\n",
      "Enter rate of interest: 2\n",
      "Enter time: 3\n",
      "Simple Interest: 6.0\n"
     ]
    }
   ],
   "source": [
    "p=int(input(\"Enter principal amount: \"))\n",
    "r=int(input(\"Enter rate of interest: \"))\n",
    "t=int(input(\"Enter time: \"))\n",
    "si=(p*r*t)/100\n",
    "print(f\"Simple Interest: {si}\")"
   ]
  },
  {
   "cell_type": "markdown",
   "metadata": {},
   "source": [
    "### 05) WAP to calculate area and perimeter of a circle."
   ]
  },
  {
   "cell_type": "code",
   "execution_count": 18,
   "metadata": {},
   "outputs": [
    {
     "name": "stdout",
     "output_type": "stream",
     "text": [
      "Enter radius of circle: 6\n",
      "Permeter: 37.69911184307752\n",
      "Area: 113.03999999999999\n"
     ]
    }
   ],
   "source": [
    "import math\n",
    "radius=int(input(\"Enter radius of circle: \"))\n",
    "perimeter=2*math.pi*r\n",
    "print(f\"Permeter: {perimeter}\")\n",
    "area=math.pi*r*r\n",
    "print(f\"Area: {area}\")"
   ]
  },
  {
   "cell_type": "markdown",
   "metadata": {},
   "source": [
    "### 06) WAP to calculate area of a triangle."
   ]
  },
  {
   "cell_type": "code",
   "execution_count": 19,
   "metadata": {},
   "outputs": [
    {
     "name": "stdout",
     "output_type": "stream",
     "text": [
      "Enter base of triangle: 6\n",
      "Enter base of triangle: 3\n",
      "Area: 9.0\n"
     ]
    }
   ],
   "source": [
    "base=int(input(\"Enter base of triangle: \"))\n",
    "height=int(input(\"Enter base of triangle: \"))\n",
    "areaTriangle=(base*height)/2\n",
    "print(f\"Area: {areaTriangle}\")"
   ]
  },
  {
   "cell_type": "markdown",
   "metadata": {},
   "source": [
    "### 07) WAP to compute quotient and remainder."
   ]
  },
  {
   "cell_type": "code",
   "execution_count": 20,
   "metadata": {},
   "outputs": [
    {
     "name": "stdout",
     "output_type": "stream",
     "text": [
      "Enter dividend: 5\n",
      "Enter divisor: 3\n",
      "Quotient: 1\n",
      "Remainder: 2\n"
     ]
    }
   ],
   "source": [
    "g=int(input(\"Enter dividend: \"))\n",
    "h=int(input(\"Enter divisor: \"))\n",
    "quotient=int(g/h);\n",
    "print(f\"Quotient: {quotient}\")\n",
    "remainder=g%h\n",
    "print(f\"Remainder: {remainder}\")"
   ]
  },
  {
   "cell_type": "markdown",
   "metadata": {},
   "source": [
    "### 08) WAP to convert degree into Fahrenheit and vice versa."
   ]
  },
  {
   "cell_type": "code",
   "execution_count": 23,
   "metadata": {},
   "outputs": [
    {
     "name": "stdout",
     "output_type": "stream",
     "text": [
      "Enter temperature in Fahrenheit: 212\n",
      "Temperature in Celsius: 100.0\n",
      "Enter temperature in Celsius: 0\n",
      "Temperature in Fahrenheit: 32.0\n"
     ]
    }
   ],
   "source": [
    "fahrenheit=int(input(\"Enter temperature in Fahrenheit: \"))\n",
    "celsius=(fahrenheit-32)*(5/9)\n",
    "print(f\"Temperature in Celsius: {celsius}\")\n",
    "Celsius=int(input(\"Enter temperature in Celsius: \"))\n",
    "Fahrenheit=(Celsius*(9/5))+32\n",
    "print(f\"Temperature in Fahrenheit: {Fahrenheit}\")"
   ]
  },
  {
   "cell_type": "markdown",
   "metadata": {},
   "source": [
    "### 09) WAP to find the distance between two points in 2-D space."
   ]
  },
  {
   "cell_type": "code",
   "execution_count": 32,
   "metadata": {},
   "outputs": [
    {
     "name": "stdout",
     "output_type": "stream",
     "text": [
      "Point 1\n",
      "Enter X-coordinate: 2\n",
      "Enter Y-coordinate: 3\n",
      "Point 2\n",
      "Enter X-coordinate: 3\n",
      "Enter Y-coordinate: 4\n",
      "Distance between 2 Points: 3.4641016151377544\n"
     ]
    }
   ],
   "source": [
    "print(\"Point 1\")\n",
    "x1=int(input(\"Enter X-coordinate: \"))\n",
    "y1=int(input(\"Enter Y-coordinate: \"))\n",
    "print(\"Point 2\")\n",
    "x2=int(input(\"Enter X-coordinate: \"))\n",
    "y2=int(input(\"Enter Y-coordinate: \"))\n",
    "distance=((x2**2-x1**2) + (y2**2-y1**2))**0.5\n",
    "print(f\"Distance between 2 Points: {distance}\")"
   ]
  },
  {
   "cell_type": "markdown",
   "metadata": {},
   "source": [
    "### 10) WAP to print sum of n natural numbers."
   ]
  },
  {
   "cell_type": "code",
   "execution_count": 35,
   "metadata": {},
   "outputs": [
    {
     "name": "stdout",
     "output_type": "stream",
     "text": [
      "Enter value of n: 5\n",
      "Sum of first 5 numbers: 15.0\n"
     ]
    }
   ],
   "source": [
    "n=int(input(\"Enter value of n: \"))\n",
    "sum=(n*(n+1))/2\n",
    "print(f\"Sum of first {n} numbers: {sum}\")"
   ]
  },
  {
   "cell_type": "markdown",
   "metadata": {},
   "source": [
    "### 11) WAP to print sum of square of n natural numbers."
   ]
  },
  {
   "cell_type": "code",
   "execution_count": 36,
   "metadata": {},
   "outputs": [
    {
     "name": "stdout",
     "output_type": "stream",
     "text": [
      "Enter value of n: 3\n",
      "Sum of square of first 3 numbers: 14.0\n"
     ]
    }
   ],
   "source": [
    "num=int(input(\"Enter value of n: \"))\n",
    "sumSquare=(num*(num+1)*(2*num+1))/6\n",
    "print(f\"Sum of square of first {num} numbers: {sumSquare}\")"
   ]
  },
  {
   "cell_type": "markdown",
   "metadata": {},
   "source": [
    "### 12) WAP to concate the first and last name of the student."
   ]
  },
  {
   "cell_type": "code",
   "execution_count": 38,
   "metadata": {},
   "outputs": [
    {
     "name": "stdout",
     "output_type": "stream",
     "text": [
      "Enter first name: Bhoomi\n",
      "Enter last name: Tulsiyani\n",
      "Bhoomi Tulsiyani\n"
     ]
    }
   ],
   "source": [
    "first=input(\"Enter first name: \")\n",
    "last=input(\"Enter last name: \")\n",
    "print(first,last,sep=\" \")"
   ]
  },
  {
   "cell_type": "markdown",
   "metadata": {},
   "source": [
    "### 13) WAP to swap two numbers."
   ]
  },
  {
   "cell_type": "code",
   "execution_count": 39,
   "metadata": {},
   "outputs": [
    {
     "name": "stdout",
     "output_type": "stream",
     "text": [
      "Enter num1: 3\n",
      "Enter num2: 5\n",
      "Number 1: 3  Number 2: 5\n",
      "Number 1: 5  Number 2: 3\n"
     ]
    }
   ],
   "source": [
    "num1=int(input(\"Enter num1: \"))\n",
    "num2=int(input(\"Enter num2: \"))\n",
    "print(f\"Number 1: {num1}\",end=\"  \")\n",
    "print(f\"Number 2: {num2}\")\n",
    "temp=num1\n",
    "num1=num2\n",
    "num2=temp\n",
    "print(f\"Number 1: {num1}\",end=\"  \")\n",
    "print(f\"Number 2: {num2}\")"
   ]
  },
  {
   "cell_type": "markdown",
   "metadata": {},
   "source": [
    "### 14) WAP to get the distance from user into kilometer, and convert it into meter, feet, inches and centimeter."
   ]
  },
  {
   "cell_type": "code",
   "execution_count": 41,
   "metadata": {},
   "outputs": [
    {
     "name": "stdout",
     "output_type": "stream",
     "text": [
      "Enter distance in kilometer: 6\n",
      "Meter: 6000\n",
      "Feet: 19686.0\n",
      "Inch: 236232.0\n",
      "Centimeter: 600000\n"
     ]
    }
   ],
   "source": [
    "kilometer=int(input(\"Enter distance in kilometer: \"))\n",
    "meter=kilometer*1000\n",
    "feet=3.281*meter\n",
    "inch=feet*12\n",
    "cm=100*meter\n",
    "print(f\"Meter: {meter}\")\n",
    "print(f\"Feet: {feet}\")\n",
    "print(f\"Inch: {inch}\")\n",
    "print(f\"Centimeter: {cm}\")"
   ]
  },
  {
   "cell_type": "markdown",
   "metadata": {},
   "source": [
    "### 15) WAP to get day, month and year from the user and print the date in the given format: 23-11-2024."
   ]
  },
  {
   "cell_type": "code",
   "execution_count": 46,
   "metadata": {},
   "outputs": [
    {
     "name": "stdout",
     "output_type": "stream",
     "text": [
      "Enter day: 2\n",
      "Enter month: 2\n",
      "Enter year: 6\n",
      "Date:  2-2-6\n"
     ]
    }
   ],
   "source": [
    "day=int(input(\"Enter day: \"))\n",
    "month=int(input(\"Enter month: \"))\n",
    "year=int(input(\"Enter year: \"))\n",
    "print(\"Date: \",end=\" \")\n",
    "print(day,month,year,sep=\"-\")"
   ]
  },
  {
   "cell_type": "code",
   "execution_count": null,
   "metadata": {},
   "outputs": [],
   "source": []
  }
 ],
 "metadata": {
  "kernelspec": {
   "display_name": "Python 3 (ipykernel)",
   "language": "python",
   "name": "python3"
  },
  "language_info": {
   "codemirror_mode": {
    "name": "ipython",
    "version": 3
   },
   "file_extension": ".py",
   "mimetype": "text/x-python",
   "name": "python",
   "nbconvert_exporter": "python",
   "pygments_lexer": "ipython3",
   "version": "3.10.9"
  },
  "vscode": {
   "interpreter": {
    "hash": "31f2aee4e71d21fbe5cf8b01ff0e069b9275f58929596ceb00d14d90e3e16cd6"
   }
  }
 },
 "nbformat": 4,
 "nbformat_minor": 4
}
