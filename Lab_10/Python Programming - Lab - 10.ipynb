{
 "cells": [
  {
   "cell_type": "markdown",
   "metadata": {},
   "source": [
    "<a href='https://www.darshan.ac.in/'> <img src='https://www.darshan.ac.in/Content/media/DU_Logo.svg' width=\"250\" height=\"300\"/></a>\n",
    "<pre>\n",
    "<center><b><h1>Python Programming - 2301CS404</b></center>\n",
    "<center><b><h1>Lab - 10</b></center>    \n",
    "<pre>"
   ]
  },
  {
   "cell_type": "markdown",
   "metadata": {},
   "source": [
    "# Exception Handling"
   ]
  },
  {
   "cell_type": "markdown",
   "metadata": {},
   "source": [
    "### 01) WAP to handle following exceptions:\n",
    "1. ZeroDivisionError\n",
    "2. ValueError\n",
    "3. TypeError\n",
    "#### Note: handle them using separate except blocks and also using single except block too."
   ]
  },
  {
   "cell_type": "code",
   "execution_count": 1,
   "metadata": {},
   "outputs": [
    {
     "name": "stdout",
     "output_type": "stream",
     "text": [
      "Enter a number to divide: 12\n",
      "Enter a number to divide by: 0\n",
      "Error: Cannot divide by zero!\n",
      "Enter a number to divide: df\n",
      "Error: invalid literal for int() with base 10: 'df'\n"
     ]
    }
   ],
   "source": [
    "try:\n",
    "    num1 = int(input(\"Enter a number to divide: \"))\n",
    "    num2 = int(input(\"Enter a number to divide by: \"))\n",
    "    result = num1 / num2\n",
    "    print(f\"Result: {result}\")\n",
    "\n",
    "except ZeroDivisionError:\n",
    "    print(\"Error: Cannot divide by zero!\")\n",
    "\n",
    "except ValueError:\n",
    "    print(\"Error: Invalid input! Please enter a valid integer.\")\n",
    "\n",
    "except TypeError:\n",
    "    print(\"Error: Type mismatch occurred.\")\n",
    "\n",
    "\n",
    "try:\n",
    "    \n",
    "    num1 = int(input(\"Enter a number to divide: \"))\n",
    "    num2 = int(input(\"Enter a number to divide by: \"))\n",
    "    result = num1 / num2\n",
    "    print(f\"Result: {result}\")\n",
    "\n",
    "except (ZeroDivisionError, ValueError, TypeError) as e:\n",
    "    print(f\"Error: {e}\")"
   ]
  },
  {
   "cell_type": "markdown",
   "metadata": {},
   "source": [
    "### 02)  WAP to handle following exceptions:\n",
    "1. IndexError\n",
    "2. KeyError"
   ]
  },
  {
   "cell_type": "code",
   "execution_count": 2,
   "metadata": {},
   "outputs": [
    {
     "name": "stdout",
     "output_type": "stream",
     "text": [
      "Enter the index to access in the list: 2\n",
      "Element at index 2: 3\n",
      "Enter the key to access in the dictionary: b\n",
      "Value for the key 'b': 2\n"
     ]
    }
   ],
   "source": [
    "try:\n",
    "    my_list = [1, 2, 3, 4]\n",
    "    index = int(input(\"Enter the index to access in the list: \"))\n",
    "    print(f\"Element at index {index}: {my_list[index]}\")\n",
    "\n",
    "    my_dict = {'a': 1, 'b': 2, 'c': 3}\n",
    "    key = input(\"Enter the key to access in the dictionary: \")\n",
    "    print(f\"Value for the key '{key}': {my_dict[key]}\")\n",
    "\n",
    "except (IndexError, KeyError) as e:\n",
    "    print(f\"Error: {e}\")\n"
   ]
  },
  {
   "cell_type": "markdown",
   "metadata": {},
   "source": [
    "### 03) WAP to handle following exceptions:\n",
    "1. FileNotFoundError\n",
    "2. ModuleNotFoundError"
   ]
  },
  {
   "cell_type": "code",
   "execution_count": 3,
   "metadata": {},
   "outputs": [
    {
     "name": "stdout",
     "output_type": "stream",
     "text": [
      "Enter the filename to open: birva.txt\n",
      "birvaaaaaa\n",
      "uday\n",
      "ayushiiiiiiiiiiiiiiiiiiiiiiiiii\n",
      "Enter the module name to import: birva\n",
      "Error: No module named 'birva'\n"
     ]
    }
   ],
   "source": [
    "try:\n",
    "    filename = input(\"Enter the filename to open: \")\n",
    "    with open(filename, 'r') as file:\n",
    "        content = file.read()\n",
    "    print(content)\n",
    "\n",
    "    module_name = input(\"Enter the module name to import: \")\n",
    "    module = __import__(module_name)\n",
    "\n",
    "except (FileNotFoundError, ModuleNotFoundError) as e:\n",
    "    print(f\"Error: {e}\")\n"
   ]
  },
  {
   "cell_type": "markdown",
   "metadata": {},
   "source": [
    "### 04) WAP that catches all type of exceptions in a single except block."
   ]
  },
  {
   "cell_type": "code",
   "execution_count": 5,
   "metadata": {},
   "outputs": [
    {
     "name": "stdout",
     "output_type": "stream",
     "text": [
      "Enter a number: 12\n",
      "Enter another number: 0\n",
      "An error occurred: division by zero\n"
     ]
    }
   ],
   "source": [
    "try:\n",
    "\n",
    "    x = int(input(\"Enter a number: \"))\n",
    "    y = int(input(\"Enter another number: \"))\n",
    "    result = x / y \n",
    "    print(f\"Result: {result}\")\n",
    "\n",
    "\n",
    "    my_list = [1, 2, 3]\n",
    "    print(my_list[x])  \n",
    "\n",
    "    with open(\"non_existing_file.txt\", \"r\") as file:\n",
    "        content = file.read()\n",
    "    print(content)\n",
    "\n",
    "except Exception as e:  \n",
    "    print(f\"An error occurred: {e}\")\n"
   ]
  },
  {
   "cell_type": "markdown",
   "metadata": {},
   "source": [
    "### 05) WAP to demonstrate else  and finally block."
   ]
  },
  {
   "cell_type": "code",
   "execution_count": 6,
   "metadata": {},
   "outputs": [
    {
     "name": "stdout",
     "output_type": "stream",
     "text": [
      "Enter the first number: 12\n",
      "Enter the second number: 23\n",
      "Result: 0.5217391304347826\n",
      "Division was successful!\n",
      "Execution of the try-except block is complete.\n"
     ]
    }
   ],
   "source": [
    "try:\n",
    "    num1 = int(input(\"Enter the first number: \"))\n",
    "    num2 = int(input(\"Enter the second number: \"))\n",
    "\n",
    "    result = num1 / num2\n",
    "    print(f\"Result: {result}\")\n",
    "\n",
    "except ZeroDivisionError:\n",
    "    print(\"Error: Cannot divide by zero!\")\n",
    "\n",
    "else:\n",
    "    print(\"Division was successful!\")\n",
    "\n",
    "finally:\n",
    "    print(\"Execution of the try-except block is complete.\")\n"
   ]
  },
  {
   "cell_type": "markdown",
   "metadata": {},
   "source": [
    "### 06) Create a short program that prompts the user for a list of grades separated by commas. \n",
    "### Split the string into individual grades and use a list comprehension to convert each string to an integer. \n",
    "### You should use a try statement to inform the user when the values they entered cannot be converted."
   ]
  },
  {
   "cell_type": "code",
   "execution_count": 7,
   "metadata": {},
   "outputs": [
    {
     "name": "stdout",
     "output_type": "stream",
     "text": [
      "Enter grades separated by commas: 56,56,56,89,55\n",
      "Grades successfully converted: [56, 56, 56, 89, 55]\n"
     ]
    }
   ],
   "source": [
    "try:\n",
    "    grades_input = input(\"Enter grades separated by commas: \")\n",
    "\n",
    "    grades = [int(grade.strip()) for grade in grades_input.split(',')]\n",
    "    \n",
    "    print(\"Grades successfully converted:\", grades)\n",
    "\n",
    "except ValueError:\n",
    "    print(\"Error: Please enter valid integers for the grades!\")\n"
   ]
  },
  {
   "cell_type": "markdown",
   "metadata": {},
   "source": [
    "### 07) WAP to create an udf divide(a,b) that handles ZeroDivisionError."
   ]
  },
  {
   "cell_type": "code",
   "execution_count": 8,
   "metadata": {},
   "outputs": [
    {
     "name": "stdout",
     "output_type": "stream",
     "text": [
      "Enter the numerator: 12\n",
      "Enter the denominator: 3\n",
      "Result: 4.0\n"
     ]
    }
   ],
   "source": [
    "def divide(a, b):\n",
    "    try:\n",
    "\n",
    "        result = a / b\n",
    "        return result\n",
    "    except ZeroDivisionError:\n",
    "\n",
    "        return \"Error: Division by zero is not allowed!\"\n",
    "\n",
    "numerator = float(input(\"Enter the numerator: \"))\n",
    "denominator = float(input(\"Enter the denominator: \"))\n",
    "\n",
    "result = divide(numerator, denominator)\n",
    "print(\"Result:\", result)\n"
   ]
  },
  {
   "cell_type": "markdown",
   "metadata": {},
   "source": [
    "### 08) WAP that gets an age of a person form the user and raises ValueError with error message: \"Enter Valid Age\" :\n",
    "#### If the age is less than 18. \n",
    "#### otherwise print the age."
   ]
  },
  {
   "cell_type": "code",
   "execution_count": 10,
   "metadata": {},
   "outputs": [
    {
     "name": "stdout",
     "output_type": "stream",
     "text": [
      "Enter your age: 2\n",
      "Error: Enter Valid Age\n"
     ]
    }
   ],
   "source": [
    "def get_age():\n",
    "    try:\n",
    "        age = int(input(\"Enter your age: \"))\n",
    "        \n",
    "        if age < 18:\n",
    "            raise ValueError(\"Enter Valid Age\")  \n",
    "\n",
    "        print(f\"Your age is: {age}\")\n",
    "\n",
    "    except ValueError as e:\n",
    "\n",
    "        print(f\"Error: {e}\")\n",
    "get_age()\n"
   ]
  },
  {
   "cell_type": "markdown",
   "metadata": {},
   "source": [
    "### 09) WAP to raise your custom Exception named InvalidUsernameError with the error message : \"Username must be between 5 and 15 characters long\":\n",
    "#### if the given name is having characters less than 5 or greater than 15.\n",
    "#### otherwise print the given username."
   ]
  },
  {
   "cell_type": "code",
   "execution_count": 12,
   "metadata": {},
   "outputs": [
    {
     "name": "stdout",
     "output_type": "stream",
     "text": [
      "Enter your username: bb\n",
      "Error: Username must be between 5 and 15 characters long\n"
     ]
    }
   ],
   "source": [
    "\n",
    "class InvalidUsernameError(Exception):\n",
    "    def __init__(self, message):\n",
    "        super().__init__(message)\n",
    "\n",
    "def check_username():\n",
    "    username = input(\"Enter your username: \")\n",
    "    \n",
    "    try:\n",
    "        if len(username) < 5 or len(username) > 15:\n",
    "            raise InvalidUsernameError(\"Username must be between 5 and 15 characters long\")\n",
    "\n",
    "        print(f\"Your username is: {username}\")\n",
    "    \n",
    "    except InvalidUsernameError as e:\n",
    "        print(f\"Error: {e}\")\n",
    "\n",
    "check_username()\n"
   ]
  },
  {
   "cell_type": "markdown",
   "metadata": {},
   "source": [
    "### 10) WAP to raise your custom Exception named NegativeNumberError with the error message : \"Cannot calculate the square root of a negative number\" :\n",
    "#### if the given number is negative.\n",
    "#### otherwise print the square root of the given number."
   ]
  },
  {
   "cell_type": "code",
   "execution_count": 16,
   "metadata": {},
   "outputs": [
    {
     "name": "stdout",
     "output_type": "stream",
     "text": [
      "Enter a number: -989\n",
      "Error: Cannot calculate the square root of a negative number\n"
     ]
    }
   ],
   "source": [
    "import math\n",
    "\n",
    "class NegativeNumberError(Exception):\n",
    "    def __init__(self, message):\n",
    "        super().__init__(message)\n",
    "\n",
    "def calculate_square_root():\n",
    "    try:\n",
    "        number = float(input(\"Enter a number: \"))\n",
    "        \n",
    "        if number < 0:\n",
    "            raise NegativeNumberError(\"Cannot calculate the square root of a negative number\")\n",
    "        \n",
    "        square_root = math.sqrt(number)\n",
    "        print(f\"The square root of {number} is: {square_root}\")\n",
    "    \n",
    "    except NegativeNumberError as e:\n",
    "        print(f\"Error: {e}\")\n",
    "    except ValueError:\n",
    "\n",
    "        print(\"Error: Please enter a valid number!\")\n",
    "\n",
    "calculate_square_root()\n"
   ]
  },
  {
   "cell_type": "code",
   "execution_count": null,
   "metadata": {},
   "outputs": [],
   "source": []
  }
 ],
 "metadata": {
  "kernelspec": {
   "display_name": "Python 3 (ipykernel)",
   "language": "python",
   "name": "python3"
  },
  "language_info": {
   "codemirror_mode": {
    "name": "ipython",
    "version": 3
   },
   "file_extension": ".py",
   "mimetype": "text/x-python",
   "name": "python",
   "nbconvert_exporter": "python",
   "pygments_lexer": "ipython3",
   "version": "3.10.9"
  }
 },
 "nbformat": 4,
 "nbformat_minor": 4
}
