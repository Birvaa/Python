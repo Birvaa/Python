{
 "cells": [
  {
   "cell_type": "markdown",
   "metadata": {},
   "source": [
    "\n",
    "<a href='https://www.darshan.ac.in/'> <img src='https://www.darshan.ac.in/Content/media/DU_Logo.svg' width=\"250\" height=\"300\"/></a>\n",
    "<pre>\n",
    "<center><b><h1>Python Programming - 2301CS404</b></center>\n",
    "<center><b><h1>Lab - 5</b></center>    \n",
    "<pre>"
   ]
  },
  {
   "cell_type": "markdown",
   "metadata": {},
   "source": [
    "# List"
   ]
  },
  {
   "cell_type": "markdown",
   "metadata": {},
   "source": [
    "### 01) WAP to find sum of all the elements in a List."
   ]
  },
  {
   "cell_type": "code",
   "execution_count": 9,
   "metadata": {},
   "outputs": [
    {
     "name": "stdout",
     "output_type": "stream",
     "text": [
      "Enter -1 if you are done entering numbers in the list\n",
      "Enter the number:1\n",
      "Enter the number:2\n",
      "Enter the number:3\n",
      "Enter the number:-1\n",
      "[1, 2, 3]\n",
      "6\n"
     ]
    }
   ],
   "source": [
    "print(\"Enter -1 if you are done entering numbers in the list\")\n",
    "li=[]\n",
    "i=int(input(\"Enter the number:\"))\n",
    "sum = 0\n",
    "while i!=-1:\n",
    "    li.append(i)\n",
    "    sum = sum + i\n",
    "    i=int(input(\"Enter the number:\"))\n",
    "    \n",
    "print(li)\n",
    "print(sum)"
   ]
  },
  {
   "cell_type": "markdown",
   "metadata": {},
   "source": [
    "### 02) WAP to find largest element in a List."
   ]
  },
  {
   "cell_type": "code",
   "execution_count": 16,
   "metadata": {},
   "outputs": [
    {
     "name": "stdout",
     "output_type": "stream",
     "text": [
      "Enter -1 if you are done entering numbers in the list\n",
      "Enter the number:3\n",
      "Enter the number:8\n",
      "Enter the number:6\n",
      "Enter the number:9\n",
      "Enter the number:5\n",
      "Enter the number:4\n",
      "Enter the number:100\n",
      "Enter the number:2\n",
      "Enter the number:6\n",
      "Enter the number:-1\n",
      "Largest element is 100\n"
     ]
    }
   ],
   "source": [
    "print(\"Enter -1 if you are done entering numbers in the list\")\n",
    "l1=[]\n",
    "i=int(input(\"Enter the number:\"))\n",
    "while i!=-1:\n",
    "    l1.append(i)\n",
    "    i=int(input(\"Enter the number:\"))\n",
    "l1.sort()\n",
    "print(f\"Largest element is {l1[len(l1)-1]}\")"
   ]
  },
  {
   "cell_type": "markdown",
   "metadata": {},
   "source": [
    "### 03) WAP to find the length of a List."
   ]
  },
  {
   "cell_type": "code",
   "execution_count": 17,
   "metadata": {},
   "outputs": [
    {
     "name": "stdout",
     "output_type": "stream",
     "text": [
      "Enter -1 if you are done entering numbers in the list\n",
      "Enter the number:2\n",
      "Enter the number:3\n",
      "Enter the number:6\n",
      "Enter the number:9\n",
      "Enter the number:-1\n",
      "length of list is 4\n"
     ]
    }
   ],
   "source": [
    "print(\"Enter -1 if you are done entering numbers in the list\")\n",
    "l1=[]\n",
    "i=int(input(\"Enter the number:\"))\n",
    "while i!=-1:\n",
    "    l1.append(i)\n",
    "    i=int(input(\"Enter the number:\"))\n",
    "print(f'length of list is {len(l1)}')"
   ]
  },
  {
   "cell_type": "markdown",
   "metadata": {},
   "source": [
    "### 04) WAP to interchange first and last elements in a list."
   ]
  },
  {
   "cell_type": "code",
   "execution_count": 20,
   "metadata": {},
   "outputs": [
    {
     "name": "stdout",
     "output_type": "stream",
     "text": [
      "Enter -1 if you are done entering numbers in the list\n",
      "Enter the number:5\n",
      "Enter the number:6\n",
      "Enter the number:9\n",
      "Enter the number:14\n",
      "Enter the number:-1\n",
      "swapped list [14, 6, 9, 5]\n"
     ]
    }
   ],
   "source": [
    "print(\"Enter -1 if you are done entering numbers in the list\")\n",
    "l1=[]\n",
    "i=int(input(\"Enter the number:\"))\n",
    "while i!=-1:\n",
    "    l1.append(i)\n",
    "    i=int(input(\"Enter the number:\"))\n",
    "n = len(l1)\n",
    "temp = l1[0]\n",
    "l1[0] = l1[n-1]\n",
    "l1[n-1] = temp\n",
    "print(f'swapped list {l1}')"
   ]
  },
  {
   "cell_type": "markdown",
   "metadata": {},
   "source": [
    "### 05) WAP to split the List into two parts and append the first part to the end."
   ]
  },
  {
   "cell_type": "code",
   "execution_count": 25,
   "metadata": {},
   "outputs": [
    {
     "name": "stdout",
     "output_type": "stream",
     "text": [
      "[6, 7, 8, 9, 10, 1, 2, 3, 4, 5]\n"
     ]
    }
   ],
   "source": [
    "l1=[1,2,3,4,5,6,7,8,9,10]\n",
    "p1 =l1[0:int(len(l1)/2)]\n",
    "p2= l1[int(len(l1)/2):int(len(l1))]\n",
    "p2.extend(p1)\n",
    "print(p2)"
   ]
  },
  {
   "cell_type": "markdown",
   "metadata": {},
   "source": [
    "### 06) WAP to interchange the elements on two positions entered by a user."
   ]
  },
  {
   "cell_type": "code",
   "execution_count": 28,
   "metadata": {},
   "outputs": [
    {
     "name": "stdout",
     "output_type": "stream",
     "text": [
      "Enter position to swap: 5\n",
      "Enter position to swap with: 9\n",
      "[1, 2, 3, 4, 5, 10, 7, 8, 9, 6]\n"
     ]
    }
   ],
   "source": [
    "l1=[1,2,3,4,5,6,7,8,9,10]\n",
    "x1 =int(input(\"Enter position to swap: \"))\n",
    "x2 =int(input(\"Enter position to swap with: \"))\n",
    "temp = l1[x1]\n",
    "l1[x1] = l1[x2]\n",
    "l1[x2] = temp\n",
    "print(l1)"
   ]
  },
  {
   "cell_type": "markdown",
   "metadata": {},
   "source": [
    "### 07) WAP to reverse the list entered by user."
   ]
  },
  {
   "cell_type": "code",
   "execution_count": 29,
   "metadata": {},
   "outputs": [
    {
     "name": "stdout",
     "output_type": "stream",
     "text": [
      "[10, 9, 8, 7, 6, 5, 4, 3, 2, 1]\n"
     ]
    }
   ],
   "source": [
    "l1=[1,2,3,4,5,6,7,8,9,10]\n",
    "l1.reverse()\n",
    "print(l1)"
   ]
  },
  {
   "cell_type": "markdown",
   "metadata": {},
   "source": [
    "### 08) WAP to print even numbers in a list."
   ]
  },
  {
   "cell_type": "code",
   "execution_count": 33,
   "metadata": {},
   "outputs": [
    {
     "name": "stdout",
     "output_type": "stream",
     "text": [
      "[2, 4, 6, 8, 10, 12, 14]\n"
     ]
    }
   ],
   "source": [
    "\n",
    "l1=[i for i in range(1,15) if i%2==0 ]\n",
    "print(l1)"
   ]
  },
  {
   "cell_type": "markdown",
   "metadata": {},
   "source": [
    "### 09) WAP to count unique items in a list."
   ]
  },
  {
   "cell_type": "code",
   "execution_count": 34,
   "metadata": {},
   "outputs": [
    {
     "name": "stdout",
     "output_type": "stream",
     "text": [
      "[5, 6, 7, 8, 9, 10]\n"
     ]
    }
   ],
   "source": [
    "l2=[1,2,3,4,5,6,7,8,9,10,1,2,3,4]\n",
    "l2=[i for i in l2 if l2.count(i)==1]\n",
    "print(l2)\n",
    "        "
   ]
  },
  {
   "cell_type": "markdown",
   "metadata": {},
   "source": [
    "### 10) WAP to copy a list."
   ]
  },
  {
   "cell_type": "code",
   "execution_count": 35,
   "metadata": {},
   "outputs": [
    {
     "data": {
      "text/plain": [
       "[5, 6, 7, 8, 9, 10]"
      ]
     },
     "execution_count": 35,
     "metadata": {},
     "output_type": "execute_result"
    }
   ],
   "source": [
    "l2.copy()"
   ]
  },
  {
   "cell_type": "markdown",
   "metadata": {},
   "source": [
    "### 11) WAP to print all odd numbers in a given range."
   ]
  },
  {
   "cell_type": "code",
   "execution_count": 36,
   "metadata": {},
   "outputs": [
    {
     "name": "stdout",
     "output_type": "stream",
     "text": [
      "Enter starting number5\n",
      "Enter ending number15\n",
      "[5, 7, 9, 11, 13]\n"
     ]
    }
   ],
   "source": [
    "N1 = int(input(\"Enter starting number\"))\n",
    "N2 = int(input(\"Enter ending number\"))\n",
    "l1=[i for i in range(N1,N2) if i%2==1 ]\n",
    "print(l1)"
   ]
  },
  {
   "cell_type": "markdown",
   "metadata": {},
   "source": [
    "### 12) WAP to count occurrences of an element in a list."
   ]
  },
  {
   "cell_type": "code",
   "execution_count": 46,
   "metadata": {},
   "outputs": [
    {
     "name": "stdout",
     "output_type": "stream",
     "text": [
      "1:2\n",
      "2:2\n",
      "3:2\n",
      "4:2\n",
      "5:1\n",
      "6:1\n",
      "7:1\n",
      "8:1\n",
      "9:1\n",
      "10:1\n"
     ]
    }
   ],
   "source": [
    "l2=[1,2,3,4,5,6,7,8,9,10,1,2,3,4]\n",
    "l2.sort()\n",
    "for i in l2:\n",
    "    print(f'{i}:{l2.count(i)}')\n",
    "    if l2.count(i)>1:\n",
    "        n = l2.count(i)-1\n",
    "        while(n!=0):\n",
    "            l2.remove(i)\n",
    "            n = n-1\n",
    "        "
   ]
  },
  {
   "cell_type": "markdown",
   "metadata": {},
   "source": [
    "### 13) WAP to find second largest number in a list."
   ]
  },
  {
   "cell_type": "code",
   "execution_count": 47,
   "metadata": {},
   "outputs": [
    {
     "name": "stdout",
     "output_type": "stream",
     "text": [
      "Enter -1 if you are done entering numbers in the list\n",
      "Enter the number:5\n",
      "Enter the number:9\n",
      "Enter the number:4\n",
      "Enter the number:14\n",
      "Enter the number:-1\n",
      "Largest element is 9\n"
     ]
    }
   ],
   "source": [
    "print(\"Enter -1 if you are done entering numbers in the list\")\n",
    "l1=[]\n",
    "i=int(input(\"Enter the number:\"))\n",
    "while i!=-1:\n",
    "    l1.append(i)\n",
    "    i=int(input(\"Enter the number:\"))\n",
    "l1.sort()\n",
    "print(f\"second Largest element is {l1[len(l1)-2]}\")"
   ]
  },
  {
   "cell_type": "markdown",
   "metadata": {},
   "source": [
    "### 14) WAP to extract elements with frequency greater than K."
   ]
  },
  {
   "cell_type": "code",
   "execution_count": 50,
   "metadata": {},
   "outputs": [
    {
     "name": "stdout",
     "output_type": "stream",
     "text": [
      "Enter k: 1\n",
      "[1, 2, 3, 4]\n"
     ]
    }
   ],
   "source": [
    "k = int(input(\"Enter k: \"))\n",
    "l2=[1,2,3,4,5,6,7,8,9,10,1,2,3,4]\n",
    "l2=[i for i in l2 if l2.count(i)>k]\n",
    "l2.sort()\n",
    "for i in l2:\n",
    "        n = l2.count(i)-1\n",
    "        while(n!=0):\n",
    "            l2.remove(i)\n",
    "            n = n-1\n",
    "print(l2)\n",
    "        "
   ]
  },
  {
   "cell_type": "markdown",
   "metadata": {},
   "source": [
    "### 15) WAP to create a list of squared numbers from 0 to 9 with and without using List Comprehension."
   ]
  },
  {
   "cell_type": "code",
   "execution_count": 53,
   "metadata": {},
   "outputs": [
    {
     "name": "stdout",
     "output_type": "stream",
     "text": [
      "[0, 1, 4, 9, 16, 25, 36, 49, 64]\n"
     ]
    }
   ],
   "source": [
    "l3 = [i**2 for i in range(0,9)]\n",
    "print(l3)"
   ]
  },
  {
   "cell_type": "markdown",
   "metadata": {},
   "source": [
    "### 16) WAP to create a new list (fruit whose name starts with 'b') from the list of fruits given by user."
   ]
  },
  {
   "cell_type": "code",
   "execution_count": 60,
   "metadata": {},
   "outputs": [
    {
     "name": "stdout",
     "output_type": "stream",
     "text": [
      "Numbers of fruit: 3\n",
      "Enter name of fruit:bhb\n",
      "Enter name of fruit:hgd\n",
      "Enter name of fruit:gd\n",
      "['bhb']\n"
     ]
    }
   ],
   "source": [
    "fruit=[]\n",
    "n= int(input(\"Numbers of fruit: \"))\n",
    "while(n!=0):\n",
    "    str = (input(\"Enter name of fruit:\"))\n",
    "    if(str.startswith('b')):\n",
    "        fruit.append(str)\n",
    "    n=n-1\n",
    "print(fruit)"
   ]
  },
  {
   "cell_type": "markdown",
   "metadata": {},
   "source": [
    "### 17) WAP to create a list of common elements from given two lists."
   ]
  },
  {
   "cell_type": "code",
   "execution_count": 64,
   "metadata": {},
   "outputs": [
    {
     "name": "stdout",
     "output_type": "stream",
     "text": [
      "1\n",
      "3\n",
      "4\n",
      "6\n",
      "7\n"
     ]
    }
   ],
   "source": [
    "l1=[1,2,3,4,5,6,7,8,9,10]\n",
    "l2=[1,3,4,6,7]\n",
    "for i in l1:\n",
    "    for j in l2:\n",
    "        if i==j :\n",
    "            print(i)\n",
    "            break"
   ]
  },
  {
   "cell_type": "code",
   "execution_count": null,
   "metadata": {},
   "outputs": [],
   "source": []
  }
 ],
 "metadata": {
  "kernelspec": {
   "display_name": "Python 3 (ipykernel)",
   "language": "python",
   "name": "python3"
  },
  "language_info": {
   "codemirror_mode": {
    "name": "ipython",
    "version": 3
   },
   "file_extension": ".py",
   "mimetype": "text/x-python",
   "name": "python",
   "nbconvert_exporter": "python",
   "pygments_lexer": "ipython3",
   "version": "3.10.9"
  }
 },
 "nbformat": 4,
 "nbformat_minor": 4
}
