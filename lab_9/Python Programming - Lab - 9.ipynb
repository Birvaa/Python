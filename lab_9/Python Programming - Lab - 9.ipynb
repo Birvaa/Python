{
 "cells": [
  {
   "cell_type": "markdown",
   "metadata": {},
   "source": [
    "<a href='https://www.darshan.ac.in/'> <img src='https://www.darshan.ac.in/Content/media/DU_Logo.svg' width=\"250\" height=\"300\"/></a>\n",
    "<pre>\n",
    "<center><b><h1>Python Programming - 2301CS404</b></center>\n",
    "<center><b><h1>Lab - 9</b></center>    \n",
    "<pre>"
   ]
  },
  {
   "cell_type": "markdown",
   "metadata": {},
   "source": [
    "# File I/O"
   ]
  },
  {
   "cell_type": "markdown",
   "metadata": {},
   "source": [
    "### 01) WAP to read and display the contents of a text file. (also try to open the file in some other directory) \n",
    "#### - in the form of a string\n",
    "#### - line by line\n",
    "#### - in the form of a list"
   ]
  },
  {
   "cell_type": "code",
   "execution_count": 26,
   "metadata": {},
   "outputs": [
    {
     "name": "stdout",
     "output_type": "stream",
     "text": [
      "['Birva\\n', 'vaghasiya\\n', 'uday']\n"
     ]
    }
   ],
   "source": [
    "fo = open(\"try.txt\" , \"r\")\n",
    "\n",
    "\n",
    "for i in fo:\n",
    "    data = fo.read()\n",
    "    fo.seek(0)\n",
    "    line = fo.readlines()\n",
    "print(line)\n",
    "\n",
    "fo.close()"
   ]
  },
  {
   "cell_type": "markdown",
   "metadata": {},
   "source": [
    "### 02) WAP to create file named \"new.txt\" only if it doesn't exist."
   ]
  },
  {
   "cell_type": "code",
   "execution_count": 14,
   "metadata": {},
   "outputs": [],
   "source": [
    "fp = open(\"new.txt\",\"w\")"
   ]
  },
  {
   "cell_type": "markdown",
   "metadata": {},
   "source": [
    "### 03) WAP to read first 5 lines from the text file."
   ]
  },
  {
   "cell_type": "code",
   "execution_count": 30,
   "metadata": {},
   "outputs": [
    {
     "name": "stdout",
     "output_type": "stream",
     "text": [
      "birva\n",
      "\n",
      "AAYUSHI\n",
      "\n",
      "siddhi\n",
      "\n",
      "manali\n",
      "\n",
      "Shreya\n",
      "\n"
     ]
    }
   ],
   "source": [
    "fp = open(\"new.txt\",\"r\")\n",
    "for i in range(0,5):\n",
    "    print(fp.readline())\n",
    "fp.close()"
   ]
  },
  {
   "cell_type": "markdown",
   "metadata": {},
   "source": [
    "### 04) WAP to find the longest word(s) in a file"
   ]
  },
  {
   "cell_type": "code",
   "execution_count": null,
   "metadata": {},
   "outputs": [],
   "source": [
    "maxx = 0\n",
    "fp = open(\"new.txt\",\"r\")\n",
    "for i in fp:\n",
    "    l1 = fp.readlines()\n",
    "for j in l1:\n",
    "    if(len(j)> 0):\n",
    "        maxx = j\n",
    "fp.close()\n",
    "print(maxx)"
   ]
  },
  {
   "cell_type": "markdown",
   "metadata": {},
   "source": [
    "### 05) WAP to count the no. of lines, words and characters in a given text file."
   ]
  },
  {
   "cell_type": "code",
   "execution_count": 6,
   "metadata": {},
   "outputs": [
    {
     "name": "stdout",
     "output_type": "stream",
     "text": [
      "['birva vaghasiya\\n', 'AAYUSHI\\n', 'siddhi\\n', 'manali\\n', 'Shreya\\n', 'bhoomi']\n",
      "6\n",
      "[['birva', 'vaghasiya\\n'], ['AAYUSHI\\n'], ['siddhi\\n'], ['manali\\n'], ['Shreya\\n'], ['bhoomi']]\n",
      "6\n"
     ]
    }
   ],
   "source": [
    "fp = open(\"new.txt\",\"r\")\n",
    "\n",
    "#readlines\n",
    "\n",
    "l1 = fp.readlines()\n",
    "    \n",
    "fp.seek(0)\n",
    "\n",
    "#readWords\n",
    "l2 = [];\n",
    "\n",
    "data = fp.readlines()\n",
    "\n",
    "for i in data:\n",
    "    l2.append(i.split(\" \"))\n",
    "fp.seek(0)\n",
    "\n",
    "fp.close()\n",
    "print(l1)\n",
    "print(len(l1))\n",
    "print(l2)\n",
    "print(len(l2))"
   ]
  },
  {
   "cell_type": "markdown",
   "metadata": {},
   "source": [
    "### 06) WAP to copy the content of a file to the another file."
   ]
  },
  {
   "cell_type": "code",
   "execution_count": 2,
   "metadata": {},
   "outputs": [
    {
     "name": "stdout",
     "output_type": "stream",
     "text": [
      "Birva\n",
      "vaghasiya\n",
      "uday\n"
     ]
    },
    {
     "data": {
      "text/plain": [
       "20"
      ]
     },
     "execution_count": 2,
     "metadata": {},
     "output_type": "execute_result"
    }
   ],
   "source": [
    "fp = open(\"try.txt\",\"r\")\n",
    "data = fp.read()\n",
    "print(data)\n",
    "fs = open(\"copy.txt\",\"w\")\n",
    "fs.write(data)"
   ]
  },
  {
   "cell_type": "markdown",
   "metadata": {},
   "source": [
    "### 07) WAP to find the size of the text file. "
   ]
  },
  {
   "cell_type": "code",
   "execution_count": 3,
   "metadata": {},
   "outputs": [
    {
     "name": "stdout",
     "output_type": "stream",
     "text": [
      "22\n"
     ]
    }
   ],
   "source": [
    "import os\n",
    "size = os.path.getsize(\"copy.txt\")\n",
    "print(size)"
   ]
  },
  {
   "cell_type": "markdown",
   "metadata": {},
   "source": [
    "### 08) WAP to create an UDF named frequency to count occurances of the specific word in a given text file."
   ]
  },
  {
   "cell_type": "code",
   "execution_count": 13,
   "metadata": {},
   "outputs": [
    {
     "name": "stdout",
     "output_type": "stream",
     "text": [
      "3\n"
     ]
    }
   ],
   "source": [
    "def freq_count(name , word):\n",
    "    fp = open(name,\"r\")\n",
    "    data = fp.read()\n",
    "    word_count = data.lower().split().count(word.lower())\n",
    "    return word_count\n",
    "\n",
    "ans = freq_count(\"new.txt\",\"birva\")\n",
    "print(ans)"
   ]
  },
  {
   "cell_type": "markdown",
   "metadata": {},
   "source": [
    "### 09) WAP to get the score of five subjects from the user, store them in a file. Fetch those marks and find the highest score."
   ]
  },
  {
   "cell_type": "code",
   "execution_count": 26,
   "metadata": {},
   "outputs": [
    {
     "name": "stdout",
     "output_type": "stream",
     "text": [
      "Enter Mark 0 :23\n",
      "Enter Mark 1 :56\n",
      "Enter Mark 2 :89\n",
      "Enter Mark 3 :12\n",
      "Enter Mark 4 :56\n",
      "The highest score is: 89\n"
     ]
    }
   ],
   "source": [
    "fps = open(\"Mark.txt\",\"w\")\n",
    "for i in range (0,5):\n",
    "    m = int(input(f\"Enter Mark {i} :\"))\n",
    "    fps.write(f\"{i} = {m}\\n\")\n",
    "    marks = []\n",
    "fps = open(\"Mark.txt\", \"r\")\n",
    "lines = fps.readlines()\n",
    "for line in lines:\n",
    "    score = int(line.split('=')[1].strip())\n",
    "    marks.append(score)\n",
    "\n",
    "highest_score = max(marks)\n",
    "\n",
    "print(f\"The highest score is: {highest_score}\")"
   ]
  },
  {
   "cell_type": "markdown",
   "metadata": {},
   "source": [
    "### 10) WAP to write first 100 prime numbers to a file named primenumbers.txt \n",
    "(Note: each number should be in new line)"
   ]
  },
  {
   "cell_type": "code",
   "execution_count": 28,
   "metadata": {},
   "outputs": [
    {
     "name": "stdout",
     "output_type": "stream",
     "text": [
      "First 100 prime numbers have been written to 'primenumbers.txt'.\n"
     ]
    }
   ],
   "source": [
    "def is_prime(num):\n",
    "    if num <= 1:\n",
    "        return False\n",
    "    for i in range(2, int(num ** 0.5) + 1):\n",
    "        if num % i == 0:\n",
    "            return False\n",
    "    return True\n",
    "\n",
    "def write_primes_to_file(filename, n):\n",
    "    primes = []\n",
    "    num = 2\n",
    "    while len(primes) < n:\n",
    "        if is_prime(num):\n",
    "            primes.append(num)\n",
    "        num += 1\n",
    "    fp = open(filename, \"w\")\n",
    "    for prime in primes:\n",
    "        fp.write(f\"{prime}\\n\")\n",
    "\n",
    "write_primes_to_file(\"primenumbers.txt\", 100)\n",
    "print(\"First 100 prime numbers have been written to 'primenumbers.txt'.\")\n",
    "\n"
   ]
  },
  {
   "cell_type": "markdown",
   "metadata": {},
   "source": [
    "### 11) WAP to merge two files and write it in a new file."
   ]
  },
  {
   "cell_type": "code",
   "execution_count": 37,
   "metadata": {},
   "outputs": [
    {
     "data": {
      "text/plain": [
       "83"
      ]
     },
     "execution_count": 37,
     "metadata": {},
     "output_type": "execute_result"
    }
   ],
   "source": [
    "fp = open(\"new.txt\",\"r\")\n",
    "data1 = fp.read()\n",
    "fp.close()\n",
    "fs = open(\"try.txt\",\"r\")\n",
    "data2 = fs.read()\n",
    "fs.close()\n",
    "\n",
    "fw = open(\"merge.txt\",\"w\")\n",
    "fw.write(data1+data2)\n"
   ]
  },
  {
   "cell_type": "markdown",
   "metadata": {},
   "source": [
    "### 12) WAP to replace word1 by word2 of a text file. Write the updated data to new file."
   ]
  },
  {
   "cell_type": "code",
   "execution_count": 39,
   "metadata": {},
   "outputs": [
    {
     "name": "stdout",
     "output_type": "stream",
     "text": [
      "All occurrences of 'birva' have been replaced with 'BIRVAAA' and saved to 'copy.txt'.\n"
     ]
    }
   ],
   "source": [
    "def replace_word_in_file(input_file, output_file, word1, word2):\n",
    "    fp = open(input_file, 'r')\n",
    "    content = fp.read()\n",
    "    updated_content = content.replace(word1, word2)\n",
    "    fs = open(output_file, 'w')\n",
    "    fs.write(updated_content)\n",
    "    print(f\"All occurrences of '{word1}' have been replaced with '{word2}' and saved to '{output_file}'.\")\n",
    "\n",
    "replace_word_in_file(\"new.txt\", \"copy.txt\", \"birva\", \"BIRVAAA\")\n"
   ]
  },
  {
   "cell_type": "markdown",
   "metadata": {},
   "source": [
    "### 13) Demonstrate tell() and seek() for all the cases(seek from beginning-end-current position) taking a suitable example of your choice."
   ]
  },
  {
   "cell_type": "code",
   "execution_count": 42,
   "metadata": {},
   "outputs": [
    {
     "name": "stdout",
     "output_type": "stream",
     "text": [
      "Initial position (before reading): 0\n",
      "Reading first 10 characters: This is a \n",
      "Current position after reading 10 chars: 10\n",
      "Position after seek to the beginning: 0\n",
      "Reading first 20 characters: This is a demonstrat\n",
      "Current position after reading 20 chars: 20\n",
      "Position after seeking 5 characters from the beginning: 5\n"
     ]
    }
   ],
   "source": [
    "\n",
    "filename = 'example.txt'\n",
    "\n",
    "with open(filename, 'w') as file:\n",
    "    file.write(\"This is a demonstration of tell() and seek() methods.\\n\")\n",
    "    file.write(\"We will use seek to move the file pointer around.\\n\")\n",
    "    file.write(\"Python is awesome!\\n\")\n",
    "\n",
    "with open(filename, 'r') as file:\n",
    "    print(\"Initial position (before reading):\", file.tell()) \n",
    "\n",
    "\n",
    "    print(\"Reading first 10 characters:\", file.read(10))\n",
    "    print(\"Current position after reading 10 chars:\", file.tell()) \n",
    "\n",
    "\n",
    "    file.seek(0, 0)\n",
    "    print(\"Position after seek to the beginning:\", file.tell()) \n",
    "    print(\"Reading first 20 characters:\", file.read(20))\n",
    "    print(\"Current position after reading 20 chars:\", file.tell()) \n",
    "\n",
    "\n",
    "    file.seek(5, 0)\n",
    "    print(\"Position after seeking 5 characters from the beginning:\", file.tell())  \n",
    "\n"
   ]
  },
  {
   "cell_type": "code",
   "execution_count": null,
   "metadata": {},
   "outputs": [],
   "source": []
  }
 ],
 "metadata": {
  "kernelspec": {
   "display_name": "Python 3 (ipykernel)",
   "language": "python",
   "name": "python3"
  },
  "language_info": {
   "codemirror_mode": {
    "name": "ipython",
    "version": 3
   },
   "file_extension": ".py",
   "mimetype": "text/x-python",
   "name": "python",
   "nbconvert_exporter": "python",
   "pygments_lexer": "ipython3",
   "version": "3.10.9"
  }
 },
 "nbformat": 4,
 "nbformat_minor": 4
}
